{
 "cells": [
  {
   "cell_type": "code",
   "execution_count": 37,
   "metadata": {},
   "outputs": [],
   "source": [
    "import csv\n",
    "import numpy as np\n",
    "import scipy as sp\n",
    "import matplotlib\n",
    "from matplotlib import pyplot as plt\n",
    "import warnings\n",
    "warnings.filterwarnings('ignore')\n"
   ]
  },
  {
   "cell_type": "code",
   "execution_count": 38,
   "metadata": {},
   "outputs": [],
   "source": [
    "#############\n",
    "## DATA IO ##\n",
    "#############\n",
    "\n",
    "def get_data(filepath):\n",
    "    # Opens the file handler for the dataset file. Using variable 'f' we can access and manipulate our file anywhere in our code\n",
    "    # after the next code line.\n",
    "    f = open(filepath,\"r\")\n",
    "\n",
    "    # Predictors Collection (or your input variable) (which in this case is just the duration of eruption)\n",
    "    X1 = []\n",
    "    X2 = []\n",
    "    X3 = []\n",
    "    X4 = []\n",
    "    X5 = []\n",
    "    X6 = []\n",
    "\n",
    "    # Output Response (or your output variable) (which in this case is the duration after which next eruption will occur.)\n",
    "    Y = []\n",
    "\n",
    "    # Initializing a reader generator using reader method from csv module. A reader generator takes each line from the file\n",
    "    # and converts it into list of columns.\n",
    "    reader = csv.reader(f)\n",
    "\n",
    "    # Using for loop, we are able to read one row at a time.\n",
    "    for row in reader:\n",
    "        X1.append(row[2])\n",
    "        X2.append(row[3])\n",
    "        X3.append(row[4])\n",
    "        X4.append(row[5])\n",
    "        X5.append(row[6])\n",
    "        X6.append(row[7])\n",
    "        Y.append(row[8])\n",
    "\n",
    "    # Close the file once we have succesffuly stored all data into our X and Y variables.\n",
    "    f.close()\n",
    "\n",
    "    return [X1,X2,X3,X4,X5,X6,Y]"
   ]
  },
  {
   "cell_type": "code",
   "execution_count": 39,
   "metadata": {},
   "outputs": [],
   "source": [
    "X1,X2,X3,X4,X5,X6,Y = get_data(\"../Datasets/hardware.csv\")"
   ]
  },
  {
   "cell_type": "code",
   "execution_count": 40,
   "metadata": {},
   "outputs": [
    {
     "name": "stdout",
     "output_type": "stream",
     "text": [
      "['125', '29', '29', '29', '29', '26', '23', '23', '23', '23', '400', '400', '60', '50', '350', '200', '167', '143', '143', '110', '143', '143', '143', '110', '320', '320', '320', '320', '320', '320', '25', '25', '50', '50', '56', '64', '50', '50', '50', '50', '50', '50', '50', '50', '133', '133', '810', '810', '320', '200', '700', '700', '140', '200', '110', '110', '220', '800', '800', '800', '800', '800', '125', '75', '75', '75', '90', '105', '105', '105', '75', '75', '175', '300', '300', '300', '300', '300', '300', '180', '330', '300', '300', '330', '330', '140', '140', '140', '140', '140', '140', '140', '140', '57', '57', '26', '26', '26', '26', '480', '203', '115', '1100', '1100', '600', '400', '400', '900', '900', '900', '900', '900', '225', '225', '180', '185', '180', '225', '25', '25', '17', '17', '1500', '1500', '800', '50', '50', '50', '50', '50', '50', '100', '100', '100', '50', '50', '50', '150', '115', '115', '92', '92', '92', '75', '60', '60', '60', '50', '72', '72', '40', '40', '35', '38', '48', '38', '30', '112', '84', '56', '56', '56', '56', '56', '56', '38', '38', '38', '38', '38', '200', '200', '200', '250', '250', '250', '160', '160', '160', '160', '160', '240', '240', '105', '105', '105', '52', '70', '59', '59', '26', '26', '26', '116', '50', '50', '50', '50', '30', '30', '180', '180', '180', '180', '124', '98', '125', '480', '480']\n"
     ]
    }
   ],
   "source": [
    "print(X1)"
   ]
  },
  {
   "cell_type": "code",
   "execution_count": 41,
   "metadata": {},
   "outputs": [],
   "source": [
    "X1 = [int(a) for a in X1]\n",
    "X2 = [int(b) for b in X2]\n",
    "X3 = [int(c) for c in X3]\n",
    "X4 = [int(d) for d in X4]\n",
    "X5 = [int(e) for e in X5]\n",
    "X6 = [int(f) for f in X6]\n",
    "Y = [int(g) for g in Y]"
   ]
  },
  {
   "cell_type": "code",
   "execution_count": 42,
   "metadata": {},
   "outputs": [
    {
     "name": "stdout",
     "output_type": "stream",
     "text": [
      "[125, 29, 29, 29, 29, 26, 23, 23, 23, 23, 400, 400, 60, 50, 350, 200, 167, 143, 143, 110, 143, 143, 143, 110, 320, 320, 320, 320, 320, 320, 25, 25, 50, 50, 56, 64, 50, 50, 50, 50, 50, 50, 50, 50, 133, 133, 810, 810, 320, 200, 700, 700, 140, 200, 110, 110, 220, 800, 800, 800, 800, 800, 125, 75, 75, 75, 90, 105, 105, 105, 75, 75, 175, 300, 300, 300, 300, 300, 300, 180, 330, 300, 300, 330, 330, 140, 140, 140, 140, 140, 140, 140, 140, 57, 57, 26, 26, 26, 26, 480, 203, 115, 1100, 1100, 600, 400, 400, 900, 900, 900, 900, 900, 225, 225, 180, 185, 180, 225, 25, 25, 17, 17, 1500, 1500, 800, 50, 50, 50, 50, 50, 50, 100, 100, 100, 50, 50, 50, 150, 115, 115, 92, 92, 92, 75, 60, 60, 60, 50, 72, 72, 40, 40, 35, 38, 48, 38, 30, 112, 84, 56, 56, 56, 56, 56, 56, 38, 38, 38, 38, 38, 200, 200, 200, 250, 250, 250, 160, 160, 160, 160, 160, 240, 240, 105, 105, 105, 52, 70, 59, 59, 26, 26, 26, 116, 50, 50, 50, 50, 30, 30, 180, 180, 180, 180, 124, 98, 125, 480, 480]\n",
      "[198, 269, 220, 172, 132, 318, 367, 489, 636, 1144, 38, 40, 92, 138, 10, 35, 19, 28, 31, 120, 30, 33, 61, 76, 23, 69, 33, 27, 77, 27, 274, 368, 32, 63, 106, 208, 20, 29, 71, 26, 36, 40, 52, 60, 72, 72, 18, 20, 40, 62, 24, 24, 138, 36, 26, 60, 71, 12, 14, 20, 16, 22, 36, 144, 144, 259, 17, 26, 32, 32, 62, 64, 22, 36, 44, 50, 45, 53, 36, 84, 16, 38, 38, 16, 22, 29, 40, 35, 134, 66, 141, 189, 22, 132, 237, 465, 465, 277, 185, 6, 24, 45, 7, 13, 16, 32, 32, 11, 11, 18, 22, 37, 40, 34, 50, 76, 66, 24, 49, 66, 100, 133, 12, 18, 20, 27, 45, 56, 70, 80, 136, 16, 26, 32, 45, 54, 65, 30, 50, 40, 62, 60, 50, 66, 86, 74, 93, 111, 143, 105, 214, 277, 370, 510, 214, 326, 510, 8, 12, 17, 21, 24, 34, 42, 46, 51, 116, 100, 140, 212, 25, 30, 41, 25, 50, 50, 30, 32, 38, 60, 109, 6, 11, 22, 33, 58, 130, 75, 113, 188, 173, 248, 405, 70, 114, 208, 307, 397, 915, 1150, 12, 14, 18, 21, 42, 46, 52, 67, 45]\n"
     ]
    }
   ],
   "source": [
    "print(X1)\n",
    "print(Y)"
   ]
  },
  {
   "cell_type": "code",
   "execution_count": 43,
   "metadata": {},
   "outputs": [
    {
     "data": {
      "text/plain": [
       "list"
      ]
     },
     "execution_count": 43,
     "metadata": {},
     "output_type": "execute_result"
    }
   ],
   "source": [
    "type(X1)"
   ]
  },
  {
   "cell_type": "code",
   "execution_count": 44,
   "metadata": {},
   "outputs": [],
   "source": [
    "X1 = np.array(X1, dtype = \"int\")\n",
    "X2 = np.array(X2, dtype = \"int\")\n",
    "X3 = np.array(X3, dtype = \"int\")\n",
    "X4 = np.array(X4, dtype = \"int\")\n",
    "X5 = np.array(X5, dtype = \"int\")\n",
    "X6 = np.array(X6, dtype = \"int\")\n",
    "Y = np.array(Y, dtype = \"int\")"
   ]
  },
  {
   "cell_type": "code",
   "execution_count": 45,
   "metadata": {},
   "outputs": [
    {
     "data": {
      "text/plain": [
       "numpy.ndarray"
      ]
     },
     "execution_count": 45,
     "metadata": {},
     "output_type": "execute_result"
    }
   ],
   "source": [
    "type(Y)"
   ]
  },
  {
   "cell_type": "code",
   "execution_count": 46,
   "metadata": {},
   "outputs": [
    {
     "name": "stdout",
     "output_type": "stream",
     "text": [
      "[ 198  269  220  172  132  318  367  489  636 1144   38   40   92  138\n",
      "   10   35   19   28   31  120   30   33   61   76   23   69   33   27\n",
      "   77   27  274  368   32   63  106  208   20   29   71   26   36   40\n",
      "   52   60   72   72   18   20   40   62   24   24  138   36   26   60\n",
      "   71   12   14   20   16   22   36  144  144  259   17   26   32   32\n",
      "   62   64   22   36   44   50   45   53   36   84   16   38   38   16\n",
      "   22   29   40   35  134   66  141  189   22  132  237  465  465  277\n",
      "  185    6   24   45    7   13   16   32   32   11   11   18   22   37\n",
      "   40   34   50   76   66   24   49   66  100  133   12   18   20   27\n",
      "   45   56   70   80  136   16   26   32   45   54   65   30   50   40\n",
      "   62   60   50   66   86   74   93  111  143  105  214  277  370  510\n",
      "  214  326  510    8   12   17   21   24   34   42   46   51  116  100\n",
      "  140  212   25   30   41   25   50   50   30   32   38   60  109    6\n",
      "   11   22   33   58  130   75  113  188  173  248  405   70  114  208\n",
      "  307  397  915 1150   12   14   18   21   42   46   52   67   45]\n",
      "[16  8  8  8  8  8 16 16 16 32  1  1  1  1  1  4  4  7  5  8  5  5  6  6\n",
      "  1  1  1  1  1  1 12 12 12 12 12 12  1  1  1  3  3  3  3  3  3  3  1  1\n",
      "  1  1  1  1  1  1  1  1  1  1  1  1  1  1  8  1  1  1  3  3  3  3  3  3\n",
      "  3  6  6  6  1  1  6  1  2  3  2  1  3  3  4  1  1  1  1  1  1  6 12 16\n",
      "  8  8  8  1  1  1  1  1  1  1  1  1  1  1  1  3  3  3  1  1  1  3  1  3\n",
      "  6  6  0  0  0  3  3  1  1  1  1  2  2  3  3  6  6  8  1  1  1  1  1  1\n",
      "  1  5  5  5  8  6  8  8  8 16  8  8 16  1  1  1  1  1  1  1  1 16 16  4\n",
      "  4 16  1  1  1  1  4  1  1  3  1  1  1  1  1  3  6  4  4  6  6 12  8 12\n",
      " 24  5  6 26 52 52 12 12  1  1  1  1  1  2  2  0  0]\n"
     ]
    }
   ],
   "source": [
    "print(Y)\n",
    "print(X5)\n"
   ]
  },
  {
   "cell_type": "code",
   "execution_count": 63,
   "metadata": {},
   "outputs": [],
   "source": [
    "#####################\n",
    "## RSS Calculation ##\n",
    "#####################\n",
    "\n",
    "def RSS(x1,x2,x3,x4,x5,x6,y,beta_0, beta_1, beta_2, beta_3, beta_4, beta_5, beta_6):\n",
    "    rss = 0\n",
    "    for i in range(x1.shape[0]):\n",
    "        predicted_value = (beta_0 + (beta_1 * x1[i])+ (beta_2 * x2[i])+ (beta_3 * x3[i])+ (beta_4 * x4[i])+ (beta_5 * x5[i])+ (beta_6 * x6[i]))\n",
    "        actual_value = y[i]\n",
    "        rss = rss + ((predicted_value - actual_value)**2)\n",
    "    return rss"
   ]
  },
  {
   "cell_type": "code",
   "execution_count": 64,
   "metadata": {},
   "outputs": [],
   "source": [
    "def gradientDescentAlgorithm(x1,x2,x3,x4,x5,x6, y, learning_rate):\n",
    "    \n",
    "    print (\"Training Linear Regression Model using Gradient Descent\")\n",
    "    \n",
    "    maximum_iterations = 2500\n",
    "    \n",
    "    # This flag lets the program know wether the gradient descent algorithm has reached it's converged state which means wether \n",
    "    # the algorithm was able to find the local minima (where the slope of RSS wrt your parameters beta_0 and beta_1 is zero)\n",
    "    converge_status = False\n",
    "    \n",
    "    # num_rows stores the number of datapoints in the current dataset provided for training.\n",
    "    num_rows = x1.shape[0]\n",
    "\n",
    "    # Initial Value of parameters ((beta_0, beta_1) - for our simple linear regression case)\n",
    "    beta_0 = 0\n",
    "    beta_1 = 0\n",
    "    beta_2 = 0\n",
    "    beta_3 = 0\n",
    "    beta_4 = 0\n",
    "    beta_5 = 0\n",
    "    beta_6 = 0\n",
    "\n",
    "    # Initial Error or RSS(beta_0,beta_1) based on the initial parameter values\n",
    "    error = RSS(x1,x2,x3,x4,x5,x6, y, beta_0, beta_1, beta_2, beta_3, beta_4, beta_5, beta_6)\n",
    "    print('Initial Value of RSS (Cost Function)=', error);\n",
    "    \n",
    "    # Iterate Loop\n",
    "    num_iter = 0\n",
    "    while not converge_status:\n",
    "        # for each training sample, compute the gradient (d/d_beta j(beta))\n",
    "        gradient_0 = 1/num_rows * sum([(beta_0 + beta_1*np.asarray([x1[i]])+ beta_2*np.asarray([x2[i]])+ beta_3*np.asarray([x3[i]])+ beta_4*np.asarray([x4[i]])+ beta_5*np.asarray([x5[i]])+ beta_6*np.asarray([x6[i]]) - y[i]) for i in range(num_rows)])\n",
    "        \n",
    "        gradient_1 = 1/num_rows * sum([(beta_0 + beta_1*np.asarray([x1[i]])+ beta_2*np.asarray([x2[i]])+ beta_3*np.asarray([x3[i]])+ beta_4*np.asarray([x4[i]])+ beta_5*np.asarray([x5[i]])+ beta_6*np.asarray([x6[i]]) - y[i])*np.asarray([x1[i]]) for i in range(num_rows)])\n",
    "        \n",
    "        gradient_2 = 1/num_rows * sum([(beta_0 + beta_1*np.asarray([x1[i]])+ beta_2*np.asarray([x2[i]])+ beta_3*np.asarray([x3[i]])+ beta_4*np.asarray([x4[i]])+ beta_5*np.asarray([x5[i]])+ beta_6*np.asarray([x6[i]]) - y[i])*np.asarray([x2[i]]) for i in range(num_rows)])\n",
    "        \n",
    "        gradient_3 = 1/num_rows * sum([(beta_0 + beta_1*np.asarray([x1[i]])+ beta_2*np.asarray([x2[i]])+ beta_3*np.asarray([x3[i]])+ beta_4*np.asarray([x4[i]])+ beta_5*np.asarray([x5[i]])+beta_6*np.asarray([x6[i]]) - y[i])*np.asarray([x3[i]]) for i in range(num_rows)])\n",
    "        \n",
    "        gradient_4 = 1/num_rows * sum([(beta_0 + beta_1*np.asarray([x1[i]])+ beta_2*np.asarray([x2[i]])+ beta_3*np.asarray([x3[i]])+ beta_4*np.asarray([x4[i]])+ beta_5*np.asarray([x5[i]])+ beta_6*np.asarray([x6[i]]) - y[i])*np.asarray([x4[i]]) for i in range(num_rows)])\n",
    "        \n",
    "        gradient_5 = 1/num_rows * sum([(beta_0 + beta_1*np.asarray([x1[i]])+ beta_2*np.asarray([x2[i]])+ beta_3*np.asarray([x3[i]])+ beta_4*np.asarray([x4[i]])+ beta_5*np.asarray([x5[i]])+ beta_6*np.asarray([x6[i]]) - y[i])*np.asarray([x5[i]]) for i in range(num_rows)])\n",
    "        \n",
    "        gradient_6 = 1/num_rows * sum([(beta_0 + beta_1*np.asarray([x1[i]])+ beta_2*np.asarray([x2[i]])+ beta_3*np.asarray([x3[i]])+ beta_4*np.asarray([x4[i]])+ beta_5*np.asarray([x5[i]])+ beta_6*np.asarray([x6[i]]) - y[i])*np.asarray([x6[i]]) for i in range(num_rows)])\n",
    "\n",
    "        # Computation of new parameters according to the current gradient.\n",
    "        temp0 = beta_0 - learning_rate * gradient_0\n",
    "        temp1 = beta_1 - learning_rate * gradient_1\n",
    "        temp2 = beta_2 - learning_rate * gradient_2\n",
    "        temp3 = beta_3 - learning_rate * gradient_3\n",
    "        temp4 = beta_4 - learning_rate * gradient_4\n",
    "        temp5 = beta_5 - learning_rate * gradient_5\n",
    "        temp6 = beta_6 - learning_rate * gradient_6\n",
    "    \n",
    "        # Simultaneous Update of Parameters Beta_0 and Beta_1.\n",
    "        beta_0 = temp0\n",
    "        beta_1 = temp1\n",
    "        beta_2 = temp2\n",
    "        beta_3 = temp3\n",
    "        beta_4 = temp4\n",
    "        beta_5 = temp5\n",
    "        beta_6 = temp6\n",
    "\n",
    "        \n",
    "        current_error = RSS(x1,x2,x3,x4,x5,x6,y,beta_0,beta_1,beta_2,beta_3,beta_4,beta_5,beta_6)\n",
    "        \n",
    "        if num_iter % 250 == 0:\n",
    "            print ('Current Value of RSS (Cost Function) based on updated values of beta_0 to beta_6 = ', current_error)\n",
    "            \n",
    "        error = current_error   # update error \n",
    "        num_iter = num_iter + 1  # update iter\n",
    "    \n",
    "        if num_iter == maximum_iterations:\n",
    "            print (\"Training Interrupted as Maximum number of iterations were crossed.\\n\\n\")\n",
    "            converge_status = True\n",
    "\n",
    "    return [beta_0[0], beta_1[0],beta_2[0],beta_3[0],beta_4[0],beta_5[0],beta_6[0]]"
   ]
  },
  {
   "cell_type": "code",
   "execution_count": 65,
   "metadata": {},
   "outputs": [],
   "source": [
    "# Method to predict response variable Y (in this case interval before the next erruption) for new values of X (in this case\n",
    "# duration of eruption) using the estimated coefficientsself.\n",
    "# This method can predict Response variable (Y) for single as well as multiple values of X. If only a single numerical Value\n",
    "# input variable (X) which in this case is Duration is passed. It will return the prediction for only that single numerical\n",
    "# value. If a collection of different values for input variable (list) is passed, it will return a list of predictions\n",
    "# for each input value.\n",
    "# \"if\" statement on line number 72 takes care of understanding if the input value is singular or a list.\n",
    "def predict(coef,X1,X2,X3,X4,X5,X6):\n",
    "    beta_0 = coef[0]\n",
    "    beta_1 = coef[1]\n",
    "    beta_2 = coef[2]\n",
    "    beta_3 = coef[3]\n",
    "    beta_4 = coef[4]\n",
    "    beta_5 = coef[5]\n",
    "    beta_6 = coef[6]\n",
    "\n",
    "    fy = []\n",
    "    if type(X) == list:\n",
    "        for x in X:\n",
    "            fy.append(beta_0 + (beta_1 * X1)+ (beta_2 * X2)+ (beta_3 * X3)+ (beta_4 * X4)+ (beta_5 * X5)+ (beta_6 * X6))\n",
    "        return fy\n",
    "\n",
    "    # Our Regression Model defined using the coefficients from slr function\n",
    "    Y = beta_0 + (beta_1 * X1)+ (beta_2 * X2)+ (beta_3 * X3)+ (beta_4 * X4)+ (beta_5 * X5)+ (beta_6 * X6)\n",
    "\n",
    "    return Y"
   ]
  },
  {
   "cell_type": "code",
   "execution_count": 66,
   "metadata": {},
   "outputs": [],
   "source": [
    "# Visualize the data using Scatter plot of matplotlib library. A scatter plot is a plot between two continuous variables.\n",
    "# and it helps us in determining the relationship between those two continuous variables.\n",
    "# For more information on working of scatter plot function of matplotlib - you can visit the following url:\n",
    "# https://matplotlib.org/api/_as_gen/matplotlib.pyplot.scatter.html\n",
    "def show_scatter_plot(X1,X2,X3,X4,X5,X6,Y,coefficients = None):\n",
    "    plt.scatter(X1,Y,s = 2)\n",
    "    plt.scatter(X2,Y,s = 2)\n",
    "    plt.scatter(X3,Y,s = 2)\n",
    "    plt.scatter(X4,Y,s = 2)\n",
    "    plt.scatter(X5,Y,s = 2)\n",
    "    plt.scatter(X6,Y,s = 2)\n",
    "    plt.xlabel(\"Inputs\")\n",
    "    plt.ylabel(\"ERP\")\n",
    "    if coefficients:\n",
    "        x1 = sp.linspace(1,X1[-1], 2000)\n",
    "        x2 = sp.linspace(1,X2[-1], 2000)\n",
    "        x3 = sp.linspace(1,X3[-1], 2000)\n",
    "        x4 = sp.linspace(1,X4[-1], 2000)\n",
    "        x5 = sp.linspace(1,X5[-1], 2000)\n",
    "        x6 = sp.linspace(1,X6[-1], 2000)\n",
    "        plt.plot(x1, predict(coefficients,X1,X2,X3,X4,X5,X6), linewidth=2)\n",
    "        plt.plot(x2, predict(coefficients,X1,X2,X3,X4,X5,X6), linewidth=2)\n",
    "        plt.plot(x3, predict(coefficients,X1,X2,X3,X4,X5,X6), linewidth=2)\n",
    "        plt.plot(x4, predict(coefficients,X1,X2,X3,X4,X5,X6), linewidth=2)\n",
    "        plt.plot(x5, predict(coefficients,X1,X2,X3,X4,X5,X6), linewidth=2)\n",
    "        plt.plot(x6, predict(coefficients,X1,X2,X3,X4,X5,X6), linewidth=2)\n",
    "    plt.show()"
   ]
  },
  {
   "cell_type": "code",
   "execution_count": 59,
   "metadata": {},
   "outputs": [
    {
     "name": "stdout",
     "output_type": "stream",
     "text": [
      "Training Linear Regression Model using Gradient Descent\n",
      "Initial Value of RSS (Cost Function)= 7711843\n",
      "Current Value of RSS (Cost Function) based on updated values of beta_0 to beta_6 =  [5.418577e+21]\n",
      "Current Value of RSS (Cost Function) based on updated values of beta_0 to beta_6 =  [nan]\n",
      "Current Value of RSS (Cost Function) based on updated values of beta_0 to beta_6 =  [nan]\n",
      "Current Value of RSS (Cost Function) based on updated values of beta_0 to beta_6 =  [nan]\n",
      "Current Value of RSS (Cost Function) based on updated values of beta_0 to beta_6 =  [nan]\n",
      "Current Value of RSS (Cost Function) based on updated values of beta_0 to beta_6 =  [nan]\n",
      "Current Value of RSS (Cost Function) based on updated values of beta_0 to beta_6 =  [nan]\n",
      "Current Value of RSS (Cost Function) based on updated values of beta_0 to beta_6 =  [nan]\n",
      "Current Value of RSS (Cost Function) based on updated values of beta_0 to beta_6 =  [nan]\n",
      "Current Value of RSS (Cost Function) based on updated values of beta_0 to beta_6 =  [nan]\n",
      "Training Interrupted as Maximum number of iterations were crossed.\n",
      "\n",
      "\n"
     ]
    },
    {
     "ename": "NameError",
     "evalue": "name 'X' is not defined",
     "output_type": "error",
     "traceback": [
      "\u001b[1;31m---------------------------------------------------------------------------\u001b[0m",
      "\u001b[1;31mNameError\u001b[0m                                 Traceback (most recent call last)",
      "\u001b[1;32m<ipython-input-59-c83fcadc1b1b>\u001b[0m in \u001b[0;36m<module>\u001b[1;34m()\u001b[0m\n\u001b[0;32m      9\u001b[0m \u001b[1;33m\u001b[0m\u001b[0m\n\u001b[0;32m     10\u001b[0m \u001b[0mcoefficients\u001b[0m \u001b[1;33m=\u001b[0m \u001b[0mgradientDescentAlgorithm\u001b[0m\u001b[1;33m(\u001b[0m\u001b[0mX1\u001b[0m\u001b[1;33m,\u001b[0m\u001b[0mX2\u001b[0m\u001b[1;33m,\u001b[0m\u001b[0mX3\u001b[0m\u001b[1;33m,\u001b[0m\u001b[0mX4\u001b[0m\u001b[1;33m,\u001b[0m\u001b[0mX5\u001b[0m\u001b[1;33m,\u001b[0m\u001b[0mX6\u001b[0m\u001b[1;33m,\u001b[0m\u001b[0mY\u001b[0m\u001b[1;33m,\u001b[0m\u001b[1;36m0.1\u001b[0m\u001b[1;33m)\u001b[0m\u001b[1;33m\u001b[0m\u001b[0m\n\u001b[1;32m---> 11\u001b[1;33m \u001b[0mshow_scatter_plot\u001b[0m\u001b[1;33m(\u001b[0m\u001b[0mX1\u001b[0m\u001b[1;33m,\u001b[0m\u001b[0mX2\u001b[0m\u001b[1;33m,\u001b[0m\u001b[0mX3\u001b[0m\u001b[1;33m,\u001b[0m\u001b[0mX4\u001b[0m\u001b[1;33m,\u001b[0m\u001b[0mX5\u001b[0m\u001b[1;33m,\u001b[0m\u001b[0mX6\u001b[0m\u001b[1;33m,\u001b[0m\u001b[0mY\u001b[0m\u001b[1;33m,\u001b[0m\u001b[0mcoefficients\u001b[0m\u001b[1;33m)\u001b[0m\u001b[1;33m\u001b[0m\u001b[0m\n\u001b[0m\u001b[0;32m     12\u001b[0m \u001b[1;33m\u001b[0m\u001b[0m\n\u001b[0;32m     13\u001b[0m \u001b[1;31m########################\u001b[0m\u001b[1;33m\u001b[0m\u001b[1;33m\u001b[0m\u001b[0m\n",
      "\u001b[1;32m<ipython-input-58-470f9bf9f02a>\u001b[0m in \u001b[0;36mshow_scatter_plot\u001b[1;34m(X1, X2, X3, X4, X5, X6, Y, coefficients)\u001b[0m\n\u001b[0;32m     19\u001b[0m         \u001b[0mx5\u001b[0m \u001b[1;33m=\u001b[0m \u001b[0msp\u001b[0m\u001b[1;33m.\u001b[0m\u001b[0mlinspace\u001b[0m\u001b[1;33m(\u001b[0m\u001b[1;36m1\u001b[0m\u001b[1;33m,\u001b[0m\u001b[0mX5\u001b[0m\u001b[1;33m[\u001b[0m\u001b[1;33m-\u001b[0m\u001b[1;36m1\u001b[0m\u001b[1;33m]\u001b[0m\u001b[1;33m,\u001b[0m \u001b[1;36m2000\u001b[0m\u001b[1;33m)\u001b[0m\u001b[1;33m\u001b[0m\u001b[0m\n\u001b[0;32m     20\u001b[0m         \u001b[0mx6\u001b[0m \u001b[1;33m=\u001b[0m \u001b[0msp\u001b[0m\u001b[1;33m.\u001b[0m\u001b[0mlinspace\u001b[0m\u001b[1;33m(\u001b[0m\u001b[1;36m1\u001b[0m\u001b[1;33m,\u001b[0m\u001b[0mX6\u001b[0m\u001b[1;33m[\u001b[0m\u001b[1;33m-\u001b[0m\u001b[1;36m1\u001b[0m\u001b[1;33m]\u001b[0m\u001b[1;33m,\u001b[0m \u001b[1;36m2000\u001b[0m\u001b[1;33m)\u001b[0m\u001b[1;33m\u001b[0m\u001b[0m\n\u001b[1;32m---> 21\u001b[1;33m         \u001b[0mplt\u001b[0m\u001b[1;33m.\u001b[0m\u001b[0mplot\u001b[0m\u001b[1;33m(\u001b[0m\u001b[0mx1\u001b[0m\u001b[1;33m,\u001b[0m \u001b[0mpredict\u001b[0m\u001b[1;33m(\u001b[0m\u001b[0mcoefficients\u001b[0m\u001b[1;33m,\u001b[0m\u001b[0mX1\u001b[0m\u001b[1;33m,\u001b[0m\u001b[0mX2\u001b[0m\u001b[1;33m,\u001b[0m\u001b[0mX3\u001b[0m\u001b[1;33m,\u001b[0m\u001b[0mX4\u001b[0m\u001b[1;33m,\u001b[0m\u001b[0mX5\u001b[0m\u001b[1;33m,\u001b[0m\u001b[0mX6\u001b[0m\u001b[1;33m)\u001b[0m\u001b[1;33m,\u001b[0m \u001b[0mlinewidth\u001b[0m\u001b[1;33m=\u001b[0m\u001b[1;36m2\u001b[0m\u001b[1;33m)\u001b[0m\u001b[1;33m\u001b[0m\u001b[0m\n\u001b[0m\u001b[0;32m     22\u001b[0m         \u001b[0mplt\u001b[0m\u001b[1;33m.\u001b[0m\u001b[0mplot\u001b[0m\u001b[1;33m(\u001b[0m\u001b[0mx2\u001b[0m\u001b[1;33m,\u001b[0m \u001b[0mpredict\u001b[0m\u001b[1;33m(\u001b[0m\u001b[0mcoefficients\u001b[0m\u001b[1;33m,\u001b[0m\u001b[0mX1\u001b[0m\u001b[1;33m,\u001b[0m\u001b[0mX2\u001b[0m\u001b[1;33m,\u001b[0m\u001b[0mX3\u001b[0m\u001b[1;33m,\u001b[0m\u001b[0mX4\u001b[0m\u001b[1;33m,\u001b[0m\u001b[0mX5\u001b[0m\u001b[1;33m,\u001b[0m\u001b[0mX6\u001b[0m\u001b[1;33m)\u001b[0m\u001b[1;33m,\u001b[0m \u001b[0mlinewidth\u001b[0m\u001b[1;33m=\u001b[0m\u001b[1;36m2\u001b[0m\u001b[1;33m)\u001b[0m\u001b[1;33m\u001b[0m\u001b[0m\n\u001b[0;32m     23\u001b[0m         \u001b[0mplt\u001b[0m\u001b[1;33m.\u001b[0m\u001b[0mplot\u001b[0m\u001b[1;33m(\u001b[0m\u001b[0mx3\u001b[0m\u001b[1;33m,\u001b[0m \u001b[0mpredict\u001b[0m\u001b[1;33m(\u001b[0m\u001b[0mcoefficients\u001b[0m\u001b[1;33m,\u001b[0m\u001b[0mX1\u001b[0m\u001b[1;33m,\u001b[0m\u001b[0mX2\u001b[0m\u001b[1;33m,\u001b[0m\u001b[0mX3\u001b[0m\u001b[1;33m,\u001b[0m\u001b[0mX4\u001b[0m\u001b[1;33m,\u001b[0m\u001b[0mX5\u001b[0m\u001b[1;33m,\u001b[0m\u001b[0mX6\u001b[0m\u001b[1;33m)\u001b[0m\u001b[1;33m,\u001b[0m \u001b[0mlinewidth\u001b[0m\u001b[1;33m=\u001b[0m\u001b[1;36m2\u001b[0m\u001b[1;33m)\u001b[0m\u001b[1;33m\u001b[0m\u001b[0m\n",
      "\u001b[1;32m<ipython-input-49-47e8f0e388a5>\u001b[0m in \u001b[0;36mpredict\u001b[1;34m(coef, X1, X2, X3, X4, X5, X6)\u001b[0m\n\u001b[0;32m     16\u001b[0m \u001b[1;33m\u001b[0m\u001b[0m\n\u001b[0;32m     17\u001b[0m     \u001b[0mfy\u001b[0m \u001b[1;33m=\u001b[0m \u001b[1;33m[\u001b[0m\u001b[1;33m]\u001b[0m\u001b[1;33m\u001b[0m\u001b[0m\n\u001b[1;32m---> 18\u001b[1;33m     \u001b[1;32mif\u001b[0m \u001b[0mtype\u001b[0m\u001b[1;33m(\u001b[0m\u001b[0mX\u001b[0m\u001b[1;33m)\u001b[0m \u001b[1;33m==\u001b[0m \u001b[0mlist\u001b[0m\u001b[1;33m:\u001b[0m\u001b[1;33m\u001b[0m\u001b[0m\n\u001b[0m\u001b[0;32m     19\u001b[0m         \u001b[1;32mfor\u001b[0m \u001b[0mx\u001b[0m \u001b[1;32min\u001b[0m \u001b[0mX\u001b[0m\u001b[1;33m:\u001b[0m\u001b[1;33m\u001b[0m\u001b[0m\n\u001b[0;32m     20\u001b[0m             \u001b[0mfy\u001b[0m\u001b[1;33m.\u001b[0m\u001b[0mappend\u001b[0m\u001b[1;33m(\u001b[0m\u001b[0mbeta_0\u001b[0m \u001b[1;33m+\u001b[0m \u001b[1;33m(\u001b[0m\u001b[0mbeta_1\u001b[0m \u001b[1;33m*\u001b[0m \u001b[0mx\u001b[0m\u001b[1;33m)\u001b[0m\u001b[1;33m)\u001b[0m\u001b[1;33m\u001b[0m\u001b[0m\n",
      "\u001b[1;31mNameError\u001b[0m: name 'X' is not defined"
     ]
    },
    {
     "data": {
      "image/png": "[encoded data removed]",
      "text/plain": [
       "<Figure size 432x288 with 1 Axes>"
      ]
     },
     "metadata": {},
     "output_type": "display_data"
    }
   ],
   "source": [
    "#X,Y = get_data(\"../Datasets/hardware.csv\")\n",
    "# show_scatter_plot(X,Y)\n",
    "\n",
    "################################################\n",
    "## Model Training (or coefficient estimation) ##\n",
    "################################################\n",
    "# Using our gradient descent function we estimate coefficients of our regression line. The gradient descent function returns a list of \n",
    "# coefficients\n",
    "\n",
    "coefficients = gradientDescentAlgorithm(X1,X2,X3,X4,X5,X6,Y,0.1)\n",
    "show_scatter_plot(X1,X2,X3,X4,X5,X6,Y,coefficients)\n",
    "\n",
    "########################\n",
    "## Making Predictions ##\n",
    "########################\n",
    "\n",
    "# Using our predict function and the coefficients given by our slr function we can now predict the time it will take\n",
    "# for the next eruption.\n",
    "print (\"Final Values for Beta_0 to Beta_6:\",coefficients[0],coefficients[1],coefficients[2],coefficients[3],coefficients[4],coefficients[5],coefficients[6])\n",
    "last_eruption_duration = int(input(\"Duration of the last eruption (in minutes):\"))\n",
    "print (\"Time it will take for the next eruption to occur (in minutes):\",predict(coefficients,last_eruption_duration))"
   ]
  },
  {
   "cell_type": "code",
   "execution_count": 62,
   "metadata": {},
   "outputs": [
    {
     "name": "stdout",
     "output_type": "stream",
     "text": [
      "\n",
      "\n",
      "Accuracy Metrics of the model\n",
      "-------------------------------------\n"
     ]
    },
    {
     "ename": "NameError",
     "evalue": "name 'X' is not defined",
     "output_type": "error",
     "traceback": [
      "\u001b[1;31m---------------------------------------------------------------------------\u001b[0m",
      "\u001b[1;31mNameError\u001b[0m                                 Traceback (most recent call last)",
      "\u001b[1;32m<ipython-input-62-7d87e8baef68>\u001b[0m in \u001b[0;36m<module>\u001b[1;34m()\u001b[0m\n\u001b[0;32m      9\u001b[0m \u001b[1;32mfor\u001b[0m \u001b[0midx\u001b[0m \u001b[1;32min\u001b[0m \u001b[0mrange\u001b[0m\u001b[1;33m(\u001b[0m\u001b[1;36m0\u001b[0m\u001b[1;33m,\u001b[0m\u001b[0mlen\u001b[0m\u001b[1;33m(\u001b[0m\u001b[0mX1\u001b[0m\u001b[1;33m)\u001b[0m\u001b[1;33m)\u001b[0m\u001b[1;33m:\u001b[0m\u001b[1;33m\u001b[0m\u001b[0m\n\u001b[0;32m     10\u001b[0m         \u001b[0mactual_y\u001b[0m \u001b[1;33m=\u001b[0m \u001b[0mY\u001b[0m\u001b[1;33m[\u001b[0m\u001b[0midx\u001b[0m\u001b[1;33m]\u001b[0m\u001b[1;33m\u001b[0m\u001b[0m\n\u001b[1;32m---> 11\u001b[1;33m         \u001b[0mpredicted_y\u001b[0m \u001b[1;33m=\u001b[0m \u001b[0mpredict\u001b[0m\u001b[1;33m(\u001b[0m\u001b[0mcoefficients\u001b[0m\u001b[1;33m,\u001b[0m\u001b[0mX1\u001b[0m\u001b[1;33m[\u001b[0m\u001b[0midx\u001b[0m\u001b[1;33m]\u001b[0m\u001b[1;33m,\u001b[0m\u001b[0mX2\u001b[0m\u001b[1;33m[\u001b[0m\u001b[0midx\u001b[0m\u001b[1;33m]\u001b[0m\u001b[1;33m,\u001b[0m\u001b[0mX3\u001b[0m\u001b[1;33m[\u001b[0m\u001b[0midx\u001b[0m\u001b[1;33m]\u001b[0m\u001b[1;33m,\u001b[0m\u001b[0mX4\u001b[0m\u001b[1;33m[\u001b[0m\u001b[0midx\u001b[0m\u001b[1;33m]\u001b[0m\u001b[1;33m,\u001b[0m\u001b[0mX5\u001b[0m\u001b[1;33m[\u001b[0m\u001b[0midx\u001b[0m\u001b[1;33m]\u001b[0m\u001b[1;33m,\u001b[0m\u001b[0mX6\u001b[0m\u001b[1;33m[\u001b[0m\u001b[0midx\u001b[0m\u001b[1;33m]\u001b[0m\u001b[1;33m)\u001b[0m\u001b[1;33m\u001b[0m\u001b[0m\n\u001b[0m\u001b[0;32m     12\u001b[0m         \u001b[0mRSS\u001b[0m \u001b[1;33m=\u001b[0m \u001b[0mRSS\u001b[0m \u001b[1;33m+\u001b[0m \u001b[1;33m(\u001b[0m\u001b[1;33m(\u001b[0m\u001b[0mactual_y\u001b[0m \u001b[1;33m-\u001b[0m \u001b[0mpredicted_y\u001b[0m\u001b[1;33m)\u001b[0m\u001b[1;33m**\u001b[0m\u001b[1;36m2\u001b[0m\u001b[1;33m)\u001b[0m\u001b[1;33m\u001b[0m\u001b[0m\n\u001b[0;32m     13\u001b[0m \u001b[0mRSE\u001b[0m \u001b[1;33m=\u001b[0m \u001b[0mnp\u001b[0m\u001b[1;33m.\u001b[0m\u001b[0msqrt\u001b[0m\u001b[1;33m(\u001b[0m\u001b[1;33m(\u001b[0m\u001b[1;36m1\u001b[0m\u001b[1;33m/\u001b[0m\u001b[1;33m(\u001b[0m\u001b[0mlen\u001b[0m\u001b[1;33m(\u001b[0m\u001b[0mX1\u001b[0m\u001b[1;33m)\u001b[0m\u001b[1;33m-\u001b[0m\u001b[1;36m2\u001b[0m\u001b[1;33m)\u001b[0m\u001b[1;33m)\u001b[0m\u001b[1;33m*\u001b[0m\u001b[0mRSS\u001b[0m\u001b[1;33m)\u001b[0m\u001b[1;33m\u001b[0m\u001b[0m\n",
      "\u001b[1;32m<ipython-input-61-81e904b0b110>\u001b[0m in \u001b[0;36mpredict\u001b[1;34m(coef, X1, X2, X3, X4, X5, X6)\u001b[0m\n\u001b[0;32m     16\u001b[0m \u001b[1;33m\u001b[0m\u001b[0m\n\u001b[0;32m     17\u001b[0m     \u001b[0mfy\u001b[0m \u001b[1;33m=\u001b[0m \u001b[1;33m[\u001b[0m\u001b[1;33m]\u001b[0m\u001b[1;33m\u001b[0m\u001b[0m\n\u001b[1;32m---> 18\u001b[1;33m     \u001b[1;32mif\u001b[0m \u001b[0mtype\u001b[0m\u001b[1;33m(\u001b[0m\u001b[0mX\u001b[0m\u001b[1;33m)\u001b[0m \u001b[1;33m==\u001b[0m \u001b[0mlist\u001b[0m\u001b[1;33m:\u001b[0m\u001b[1;33m\u001b[0m\u001b[0m\n\u001b[0m\u001b[0;32m     19\u001b[0m         \u001b[1;32mfor\u001b[0m \u001b[0mx\u001b[0m \u001b[1;32min\u001b[0m \u001b[0mX\u001b[0m\u001b[1;33m:\u001b[0m\u001b[1;33m\u001b[0m\u001b[0m\n\u001b[0;32m     20\u001b[0m             \u001b[0mfy\u001b[0m\u001b[1;33m.\u001b[0m\u001b[0mappend\u001b[0m\u001b[1;33m(\u001b[0m\u001b[0mbeta_0\u001b[0m \u001b[1;33m+\u001b[0m \u001b[1;33m(\u001b[0m\u001b[0mbeta_1\u001b[0m \u001b[1;33m*\u001b[0m \u001b[0mX1\u001b[0m\u001b[1;33m)\u001b[0m\u001b[1;33m+\u001b[0m \u001b[1;33m(\u001b[0m\u001b[0mbeta_2\u001b[0m \u001b[1;33m*\u001b[0m \u001b[0mX2\u001b[0m\u001b[1;33m)\u001b[0m\u001b[1;33m+\u001b[0m \u001b[1;33m(\u001b[0m\u001b[0mbeta_3\u001b[0m \u001b[1;33m*\u001b[0m \u001b[0mX3\u001b[0m\u001b[1;33m)\u001b[0m\u001b[1;33m+\u001b[0m \u001b[1;33m(\u001b[0m\u001b[0mbeta_4\u001b[0m \u001b[1;33m*\u001b[0m \u001b[0mX4\u001b[0m\u001b[1;33m)\u001b[0m\u001b[1;33m+\u001b[0m \u001b[1;33m(\u001b[0m\u001b[0mbeta_5\u001b[0m \u001b[1;33m*\u001b[0m \u001b[0mX5\u001b[0m\u001b[1;33m)\u001b[0m\u001b[1;33m+\u001b[0m \u001b[1;33m(\u001b[0m\u001b[0mbeta_6\u001b[0m \u001b[1;33m*\u001b[0m \u001b[0mX6\u001b[0m\u001b[1;33m)\u001b[0m\u001b[1;33m)\u001b[0m\u001b[1;33m\u001b[0m\u001b[0m\n",
      "\u001b[1;31mNameError\u001b[0m: name 'X' is not defined"
     ]
    }
   ],
   "source": [
    "############################\n",
    "## Performance Evaluation ##\n",
    "############################\n",
    "\n",
    "print (\"\\n\\nAccuracy Metrics of the model\\n-------------------------------------\")\n",
    "\n",
    "# Calculation of RSE\n",
    "RSS = 0\n",
    "for idx in range(0,len(X1)):\n",
    "\tactual_y = Y[idx]\n",
    "\tpredicted_y = predict(coefficients,X1[idx],X2[idx],X3[idx],X4[idx],X5[idx],X6[idx])\n",
    "\tRSS = RSS + ((actual_y - predicted_y)**2)\n",
    "RSE = np.sqrt((1/(len(X1)-2))*RSS)\n",
    "\n",
    "print (\"Residual Standard Error:\",RSE)\n",
    "print (\"% Residual Standard Error (over average Interval):\", (RSE/np.mean(Y))*100)\n",
    "\n",
    "\n",
    "# Calculation of R_Squared\n",
    "TSS = 0\n",
    "for idx in range(0,len(X1)):\n",
    "\tactual_y = Y[idx]\n",
    "\tTSS = TSS + ((actual_y - np.mean(Y))**2)\n",
    "R_Squared = ((TSS) - (RSS)) / (TSS)\n",
    "\n",
    "print (\"\\nR-Squared Value:\",R_Squared)"
   ]
  },
  {
   "cell_type": "code",
   "execution_count": null,
   "metadata": {},
   "outputs": [],
   "source": []
  }
 ],
 "metadata": {
  "kernelspec": {
   "display_name": "Python 3",
   "language": "python",
   "name": "python3"
  },
  "language_info": {
   "codemirror_mode": {
    "name": "ipython",
    "version": 3
   },
   "file_extension": ".py",
   "mimetype": "text/x-python",
   "name": "python",
   "nbconvert_exporter": "python",
   "pygments_lexer": "ipython3",
   "version": "3.6.6"
  }
 },
 "nbformat": 4,
 "nbformat_minor": 2
}
